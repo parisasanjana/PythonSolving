{
 "cells": [
  {
   "cell_type": "markdown",
   "id": "50af509d",
   "metadata": {},
   "source": [
    "# Python Learning Resources\n",
    "\n",
    "## Official Python Tutorial\n",
    "The official Python documentation tutorial. It's a great place to start learning Python from scratch, covering all the basics and more.  \n",
    "[Official Python Tutorial](https://docs.python.org/3/tutorial/index.html)\n",
    "\n",
    "## 60 Days of Python - YouTube Playlist\n",
    "A comprehensive YouTube playlist designed to teach you Python in 60 days, covering various topics and projects to build your skills.  \n",
    "[60 Days of Python - YouTube Playlist](https://www.youtube.com/playlist?list=PLKdU0fuY4OFf7qj4eoBtvALAB_Ml2rN0V)\n",
    "\n",
    "## 60 Days of Python - GitHub Repository\n",
    "The GitHub repository for the 60 Days of Python series. It includes all the code and resources used in the YouTube playlist.  \n",
    "[60 Days of Python - GitHub Repository](https://github.com/rashakil-ds/60-Days-of-Python-by-Study-Mart-AI-QUEST)\n",
    "\n",
    "## Python Notes for Professionals - PDF\n",
    "A free PDF book that offers a wide range of Python notes for professionals. It's a useful reference guide for both beginners and advanced users.  \n",
    "[Python Notes for Professionals - PDF](https://github.com/rashakil-ds/Top-Data-Science-AI-Book-Collection/blob/main/Books/Python%20Notes%20For%20Professionals.pdf)\n"
   ]
  },
  {
   "cell_type": "markdown",
   "id": "957f5200",
   "metadata": {},
   "source": [
    "---------------------------------------------------------------------------------------------------------------------"
   ]
  },
  {
   "cell_type": "markdown",
   "id": "8b8f2b2e",
   "metadata": {},
   "source": [
    "# Break and Continue Statements in Python\n",
    "\n",
    "## Break Statement\n",
    "\n",
    "The `break` statement is used to exit a loop prematurely when a certain condition is met.\n",
    "\n",
    "### Example of Break Statement\n",
    "```python\n",
    "for i in range(10):\n",
    "    if i == 5:\n",
    "        break\n",
    "    print(i)\n"
   ]
  },
  {
   "cell_type": "code",
   "execution_count": 1,
   "id": "fc8c7ef6",
   "metadata": {},
   "outputs": [
    {
     "name": "stdout",
     "output_type": "stream",
     "text": [
      "0\n",
      "1\n",
      "2\n",
      "3\n",
      "4\n"
     ]
    }
   ],
   "source": [
    "for i in range(10): # default (0, 10-1, 1)\n",
    "    if i == 5:\n",
    "        break # stop\n",
    "    print(i)"
   ]
  },
  {
   "cell_type": "code",
   "execution_count": 2,
   "id": "66bc918f",
   "metadata": {},
   "outputs": [
    {
     "name": "stdout",
     "output_type": "stream",
     "text": [
      "1\n"
     ]
    }
   ],
   "source": [
    "for i in range(1,10000):\n",
    "    if i%2==0: # 1 is odd number\n",
    "        break\n",
    "    print(i)"
   ]
  },
  {
   "cell_type": "code",
   "execution_count": 3,
   "id": "3b67e399",
   "metadata": {},
   "outputs": [],
   "source": [
    "data = ['a','b','d','r']\n",
    "\n",
    "for x in data:\n",
    "    if x=='d':\n",
    "        continue #skip\n",
    "        \n",
    "    print(x)\n"
   ]
  },
  {
   "cell_type": "code",
   "execution_count": 4,
   "id": "505eea59",
   "metadata": {},
   "outputs": [
    {
     "name": "stdout",
     "output_type": "stream",
     "text": [
      "a\n",
      "b\n"
     ]
    }
   ],
   "source": [
    "data = ['a','b','d','r']\n",
    "\n",
    "for x in data:\n",
    "    if x=='d':\n",
    "        break\n",
    "        \n",
    "    print(x)\n"
   ]
  },
  {
   "cell_type": "markdown",
   "id": "c7d99c31",
   "metadata": {},
   "source": [
    "# Continue Statement in Python\n",
    "\n",
    "The `continue` statement in Python is used to skip the current iteration of a loop and proceed to the next iteration. This can be useful when you want to skip certain values or conditions within a loop without terminating the entire loop.\n",
    "\n",
    "## Syntax\n",
    "\n",
    "The syntax of the `continue` statement is simple:\n",
    "\n",
    "```python\n",
    "continue\n",
    "\n",
    "## Example:-\n",
    "for i in range(10):\n",
    "    if i % 2 == 0:\n",
    "        continue\n",
    "    print(i)\n"
   ]
  },
  {
   "cell_type": "markdown",
   "id": "b304e8f4",
   "metadata": {},
   "source": [
    "Break -> Stop <br>\n",
    "Continue -> Skip"
   ]
  },
  {
   "cell_type": "code",
   "execution_count": null,
   "id": "1c21d0df",
   "metadata": {},
   "outputs": [],
   "source": []
  },
  {
   "cell_type": "code",
   "execution_count": null,
   "id": "482cb942",
   "metadata": {},
   "outputs": [],
   "source": []
  },
  {
   "cell_type": "markdown",
   "id": "43a6feb4",
   "metadata": {},
   "source": [
    "---------------------------------------------------------------------------------------------------------------------------"
   ]
  },
  {
   "cell_type": "markdown",
   "id": "6f91ce42",
   "metadata": {},
   "source": [
    "# Data Structures in Python\n",
    "\n",
    "Python provides several `built-in` data structures to store and manage data efficiently. These data structures include lists, tuples, dictionaries, sets, and more. Each data structure has unique properties and methods, making them suitable for different types of applications.\n"
   ]
  },
  {
   "cell_type": "markdown",
   "id": "8e17df05",
   "metadata": {},
   "source": [
    "### Type of Data Structures in Python\n",
    "\n",
    "- String\n",
    "- List\n",
    "- Tuple\n",
    "- Set\n",
    "- Dictionary"
   ]
  },
  {
   "cell_type": "markdown",
   "id": "8d4f34e4",
   "metadata": {},
   "source": [
    "# 1. Lists in Python\n",
    "\n",
    "A list is an ordered, changeable, mutable collection of elements. It also allowed duplicates. Lists can contain elements of different types.\n",
    "\n",
    "### Example:\n",
    "```python\n",
    "dept = [\"ai\", \"ds\", \"da\", \"nlp\"]\n",
    "print(dept)\n"
   ]
  },
  {
   "cell_type": "code",
   "execution_count": 5,
   "id": "5496c86a",
   "metadata": {},
   "outputs": [
    {
     "name": "stdout",
     "output_type": "stream",
     "text": [
      "['ai', 'ds', 'da', 'nlp']\n"
     ]
    }
   ],
   "source": [
    "dept = [\"ai\", \"ds\", \"da\", \"nlp\"]\n",
    "print(dept)"
   ]
  },
  {
   "cell_type": "code",
   "execution_count": 6,
   "id": "0a0a88b4",
   "metadata": {},
   "outputs": [
    {
     "data": {
      "text/plain": [
       "list"
      ]
     },
     "execution_count": 6,
     "metadata": {},
     "output_type": "execute_result"
    }
   ],
   "source": [
    "type(dept)"
   ]
  },
  {
   "cell_type": "code",
   "execution_count": 7,
   "id": "9b021540",
   "metadata": {},
   "outputs": [
    {
     "name": "stdout",
     "output_type": "stream",
     "text": [
      "['ai', 'ds', 'da', 'nlp', 1, 2, 3, 4, (2, 3, 4), True, False, {1, 2}]\n"
     ]
    }
   ],
   "source": [
    "dept = [\"ai\", \"ds\", \"da\", \"nlp\",1,2,3,4,(2,3,4),True,False,{1,2}]\n",
    "print(dept)"
   ]
  },
  {
   "cell_type": "code",
   "execution_count": 8,
   "id": "751a0364",
   "metadata": {},
   "outputs": [
    {
     "data": {
      "text/plain": [
       "['ai', 'ds', 'da', 'nlp', 1, 2, 3, 4, (2, 3, 4), True, False, {1, 2}]"
      ]
     },
     "execution_count": 8,
     "metadata": {},
     "output_type": "execute_result"
    }
   ],
   "source": [
    "dept"
   ]
  },
  {
   "cell_type": "code",
   "execution_count": 9,
   "id": "44198df5",
   "metadata": {},
   "outputs": [
    {
     "data": {
      "text/plain": [
       "'ai'"
      ]
     },
     "execution_count": 9,
     "metadata": {},
     "output_type": "execute_result"
    }
   ],
   "source": [
    "dept[0]"
   ]
  },
  {
   "cell_type": "code",
   "execution_count": 10,
   "id": "2ed897ca",
   "metadata": {},
   "outputs": [
    {
     "data": {
      "text/plain": [
       "False"
      ]
     },
     "execution_count": 10,
     "metadata": {},
     "output_type": "execute_result"
    }
   ],
   "source": [
    "dept[10]"
   ]
  },
  {
   "cell_type": "code",
   "execution_count": 11,
   "id": "304de872",
   "metadata": {},
   "outputs": [
    {
     "data": {
      "text/plain": [
       "{1, 2}"
      ]
     },
     "execution_count": 11,
     "metadata": {},
     "output_type": "execute_result"
    }
   ],
   "source": [
    "dept[-1]"
   ]
  },
  {
   "cell_type": "code",
   "execution_count": 13,
   "id": "41bb5021",
   "metadata": {},
   "outputs": [
    {
     "data": {
      "text/plain": [
       "(2, 3, 4)"
      ]
     },
     "execution_count": 13,
     "metadata": {},
     "output_type": "execute_result"
    }
   ],
   "source": [
    "dept[-4]"
   ]
  },
  {
   "cell_type": "code",
   "execution_count": 15,
   "id": "6c7b1783",
   "metadata": {},
   "outputs": [
    {
     "data": {
      "text/plain": [
       "3"
      ]
     },
     "execution_count": 15,
     "metadata": {},
     "output_type": "execute_result"
    }
   ],
   "source": [
    "dept[-4][1]"
   ]
  },
  {
   "cell_type": "code",
   "execution_count": 16,
   "id": "d0662ee7",
   "metadata": {},
   "outputs": [
    {
     "data": {
      "text/plain": [
       "['da', 'nlp', 1, 2, 3]"
      ]
     },
     "execution_count": 16,
     "metadata": {},
     "output_type": "execute_result"
    }
   ],
   "source": [
    "dept[2:7]"
   ]
  },
  {
   "cell_type": "code",
   "execution_count": 17,
   "id": "5b3938bc",
   "metadata": {},
   "outputs": [
    {
     "data": {
      "text/plain": [
       "152"
      ]
     },
     "execution_count": 17,
     "metadata": {},
     "output_type": "execute_result"
    }
   ],
   "source": [
    "import sys\n",
    "sys.getsizeof(dept)"
   ]
  },
  {
   "cell_type": "markdown",
   "id": "2cacbd90",
   "metadata": {},
   "source": [
    "# Common List Methods in Python\n",
    "\n",
    "In Python, lists are versatile and come with a variety of built-in methods to manipulate and manage the elements they contain. Below are some common list methods illustrated with the example list `dept = [\"ai\", \"ds\", \"da\", \"nlp\"]`.\n",
    "\n",
    "```python\n",
    "dept = [\"ai\", \"ds\", \"da\", \"nlp\"] <br>\n",
    "print(dept)"
   ]
  },
  {
   "cell_type": "markdown",
   "id": "05ba7381",
   "metadata": {},
   "source": [
    "### Common List Methods:\n",
    "\n",
    "- `append()`\n",
    "- `insert()`\n",
    "- `remove()`\n",
    "- `pop()`\n",
    "- `clear()`\n",
    "- `index()`\n",
    "- `count()`\n",
    "- `sort()`\n",
    "- `reverse()`\n",
    "- `copy()`\n"
   ]
  },
  {
   "cell_type": "markdown",
   "id": "53db1aea",
   "metadata": {},
   "source": [
    "dept = [\"ai\", \"ds\", \"da\", \"nlp\"] <br>\n",
    "print(dept) <br>\n",
    "Output: ['ai', 'ds', 'da', 'nlp']\n",
    "\n",
    "# Append\n",
    "dept.append(\"cv\") <br>\n",
    "print(dept) <br> \n",
    "Output: ['ai', 'ds', 'da', 'nlp', 'cv']\n",
    "\n",
    "# Insert\n",
    "dept.insert(1, \"ml\") <br>\n",
    "print(dept)  <br>\n",
    "Output: ['ai', 'ml', 'ds', 'da', 'nlp', 'cv']\n",
    "\n",
    "# Remove\n",
    "dept.remove(\"ds\") <br>\n",
    "print(dept)  <br>\n",
    "Output: ['ai', 'ml', 'da', 'nlp', 'cv']\n",
    "\n",
    "# Pop\n",
    "removed_element = dept.pop(2) <br>\n",
    "print(removed_element)  <br>\n",
    "Output: 'da' <br>\n",
    "print(dept)  <br>\n",
    "Output: ['ai', 'ml', 'nlp', 'cv']\n",
    "\n",
    "# Clear\n",
    "dept.clear() <br>\n",
    "print(dept)  <br>\n",
    "Output: []\n",
    "\n",
    "# Reinitialize\n",
    "dept = [\"ai\", \"ds\", \"da\", \"nlp\"]\n",
    "\n",
    "# Index\n",
    "index_ds = dept.index(\"ds\") <br>\n",
    "print(index_ds)  <br>\n",
    "Output: 1\n",
    "\n",
    "# Count\n",
    "count_ai = dept.count(\"ai\") <br>\n",
    "print(count_ai)  <br>\n",
    "Output: 1\n",
    "\n",
    "# Sort\n",
    "dept.sort() <br>\n",
    "print(dept)  <br>\n",
    "Output: ['ai', 'da', 'ds', 'nlp']\n",
    "\n",
    "# Reverse\n",
    "dept.reverse() <br>\n",
    "print(dept)  <br>\n",
    "Output: ['nlp', 'ds', 'da', 'ai']\n",
    "\n",
    "# Copy\n",
    "dept_copy = dept.copy() <br>\n",
    "print(dept_copy)  <br>\n",
    "Output: ['nlp', 'ds', 'da', 'ai']"
   ]
  },
  {
   "cell_type": "markdown",
   "id": "f752279d",
   "metadata": {},
   "source": [
    "# Let's practice list methods"
   ]
  },
  {
   "cell_type": "code",
   "execution_count": 18,
   "id": "7ba307e0",
   "metadata": {},
   "outputs": [],
   "source": [
    "x = ['ai', 'ds', 'da', 'nlp', 1, 2, 3, 4, True, False, [1, 2, 3], {1, 2, 3}]"
   ]
  },
  {
   "cell_type": "code",
   "execution_count": 19,
   "id": "3d3a1742",
   "metadata": {},
   "outputs": [],
   "source": [
    "x.append('Rasel Sarker')"
   ]
  },
  {
   "cell_type": "code",
   "execution_count": 20,
   "id": "43f68964",
   "metadata": {
    "scrolled": true
   },
   "outputs": [
    {
     "data": {
      "text/plain": [
       "['ai',\n",
       " 'ds',\n",
       " 'da',\n",
       " 'nlp',\n",
       " 1,\n",
       " 2,\n",
       " 3,\n",
       " 4,\n",
       " True,\n",
       " False,\n",
       " [1, 2, 3],\n",
       " {1, 2, 3},\n",
       " 'Rasel Sarker']"
      ]
     },
     "execution_count": 20,
     "metadata": {},
     "output_type": "execute_result"
    }
   ],
   "source": [
    "x"
   ]
  },
  {
   "cell_type": "code",
   "execution_count": 21,
   "id": "c47d9fb7",
   "metadata": {},
   "outputs": [],
   "source": [
    "x.insert(7,'Study Mart')"
   ]
  },
  {
   "cell_type": "code",
   "execution_count": 22,
   "id": "5ce46de0",
   "metadata": {},
   "outputs": [
    {
     "data": {
      "text/plain": [
       "'Study Mart'"
      ]
     },
     "execution_count": 22,
     "metadata": {},
     "output_type": "execute_result"
    }
   ],
   "source": [
    "x[7]"
   ]
  },
  {
   "cell_type": "code",
   "execution_count": 23,
   "id": "f9411dcd",
   "metadata": {},
   "outputs": [
    {
     "data": {
      "text/plain": [
       "['ai',\n",
       " 'ds',\n",
       " 'da',\n",
       " 'nlp',\n",
       " 1,\n",
       " 2,\n",
       " 3,\n",
       " 'Study Mart',\n",
       " 4,\n",
       " True,\n",
       " False,\n",
       " [1, 2, 3],\n",
       " {1, 2, 3},\n",
       " 'Rasel Sarker']"
      ]
     },
     "execution_count": 23,
     "metadata": {},
     "output_type": "execute_result"
    }
   ],
   "source": [
    "x"
   ]
  },
  {
   "cell_type": "code",
   "execution_count": 25,
   "id": "22c11272",
   "metadata": {},
   "outputs": [],
   "source": [
    "x.remove('Study Mart') # value"
   ]
  },
  {
   "cell_type": "code",
   "execution_count": 26,
   "id": "99f337df",
   "metadata": {},
   "outputs": [
    {
     "data": {
      "text/plain": [
       "['ai',\n",
       " 'ds',\n",
       " 'da',\n",
       " 'nlp',\n",
       " 1,\n",
       " 2,\n",
       " 3,\n",
       " 4,\n",
       " True,\n",
       " False,\n",
       " [1, 2, 3],\n",
       " {1, 2, 3},\n",
       " 'Rasel Sarker']"
      ]
     },
     "execution_count": 26,
     "metadata": {},
     "output_type": "execute_result"
    }
   ],
   "source": [
    "x"
   ]
  },
  {
   "cell_type": "code",
   "execution_count": 27,
   "id": "34490f26",
   "metadata": {},
   "outputs": [
    {
     "data": {
      "text/plain": [
       "'Rasel Sarker'"
      ]
     },
     "execution_count": 27,
     "metadata": {},
     "output_type": "execute_result"
    }
   ],
   "source": [
    "x.pop(-1)"
   ]
  },
  {
   "cell_type": "code",
   "execution_count": 28,
   "id": "021275fc",
   "metadata": {},
   "outputs": [
    {
     "data": {
      "text/plain": [
       "['ai', 'ds', 'da', 'nlp', 1, 2, 3, 4, True, False, [1, 2, 3], {1, 2, 3}]"
      ]
     },
     "execution_count": 28,
     "metadata": {},
     "output_type": "execute_result"
    }
   ],
   "source": [
    "x"
   ]
  },
  {
   "cell_type": "code",
   "execution_count": 29,
   "id": "cf8b55eb",
   "metadata": {},
   "outputs": [],
   "source": [
    "del x[0]"
   ]
  },
  {
   "cell_type": "code",
   "execution_count": 30,
   "id": "b8c42c19",
   "metadata": {},
   "outputs": [
    {
     "data": {
      "text/plain": [
       "['ds', 'da', 'nlp', 1, 2, 3, 4, True, False, [1, 2, 3], {1, 2, 3}]"
      ]
     },
     "execution_count": 30,
     "metadata": {},
     "output_type": "execute_result"
    }
   ],
   "source": [
    "x"
   ]
  },
  {
   "cell_type": "code",
   "execution_count": 31,
   "id": "af571e95",
   "metadata": {},
   "outputs": [],
   "source": [
    "x.reverse()"
   ]
  },
  {
   "cell_type": "code",
   "execution_count": 32,
   "id": "8752efad",
   "metadata": {},
   "outputs": [
    {
     "data": {
      "text/plain": [
       "[{1, 2, 3}, [1, 2, 3], False, True, 4, 3, 2, 1, 'nlp', 'da', 'ds']"
      ]
     },
     "execution_count": 32,
     "metadata": {},
     "output_type": "execute_result"
    }
   ],
   "source": [
    "x"
   ]
  },
  {
   "cell_type": "code",
   "execution_count": 33,
   "id": "f437a2fa",
   "metadata": {},
   "outputs": [],
   "source": [
    "x.append(4) # allowed duplicate"
   ]
  },
  {
   "cell_type": "code",
   "execution_count": 34,
   "id": "065ab4a5",
   "metadata": {},
   "outputs": [
    {
     "data": {
      "text/plain": [
       "[{1, 2, 3}, [1, 2, 3], False, True, 4, 3, 2, 1, 'nlp', 'da', 'ds', 4]"
      ]
     },
     "execution_count": 34,
     "metadata": {},
     "output_type": "execute_result"
    }
   ],
   "source": [
    "x"
   ]
  },
  {
   "cell_type": "code",
   "execution_count": 35,
   "id": "79617151",
   "metadata": {},
   "outputs": [
    {
     "data": {
      "text/plain": [
       "2"
      ]
     },
     "execution_count": 35,
     "metadata": {},
     "output_type": "execute_result"
    }
   ],
   "source": [
    "x.count(4)"
   ]
  },
  {
   "cell_type": "code",
   "execution_count": 37,
   "id": "d5dab00a",
   "metadata": {},
   "outputs": [],
   "source": [
    "n=[12,4,10,33]"
   ]
  },
  {
   "cell_type": "code",
   "execution_count": 38,
   "id": "a1fafc6a",
   "metadata": {},
   "outputs": [],
   "source": [
    "n.sort()"
   ]
  },
  {
   "cell_type": "code",
   "execution_count": 39,
   "id": "69fc1f5f",
   "metadata": {},
   "outputs": [
    {
     "data": {
      "text/plain": [
       "[4, 10, 12, 33]"
      ]
     },
     "execution_count": 39,
     "metadata": {},
     "output_type": "execute_result"
    }
   ],
   "source": [
    "n"
   ]
  },
  {
   "cell_type": "markdown",
   "id": "9ad94531",
   "metadata": {},
   "source": [
    "# Copy"
   ]
  },
  {
   "cell_type": "code",
   "execution_count": 40,
   "id": "8b1d26b1",
   "metadata": {},
   "outputs": [
    {
     "data": {
      "text/plain": [
       "[{1, 2, 3}, [1, 2, 3], False, True, 4, 3, 2, 1, 'nlp', 'da', 'ds', 4]"
      ]
     },
     "execution_count": 40,
     "metadata": {},
     "output_type": "execute_result"
    }
   ],
   "source": [
    "x"
   ]
  },
  {
   "cell_type": "code",
   "execution_count": 41,
   "id": "83f703dd",
   "metadata": {},
   "outputs": [
    {
     "data": {
      "text/plain": [
       "[{1, 2, 3}, [1, 2, 3], False, True, 4, 3, 2, 1, 'nlp', 'da', 'ds', 4]"
      ]
     },
     "execution_count": 41,
     "metadata": {},
     "output_type": "execute_result"
    }
   ],
   "source": [
    "y = x\n",
    "y"
   ]
  },
  {
   "cell_type": "code",
   "execution_count": 42,
   "id": "b6aa0563",
   "metadata": {},
   "outputs": [
    {
     "data": {
      "text/plain": [
       "[{1, 2, 3}, [1, 2, 3], False, True, 4, 3, 2, 1, 'nlp', 'da', 'ds', 4]"
      ]
     },
     "execution_count": 42,
     "metadata": {},
     "output_type": "execute_result"
    }
   ],
   "source": [
    "y"
   ]
  },
  {
   "cell_type": "code",
   "execution_count": 43,
   "id": "31f0425e",
   "metadata": {},
   "outputs": [],
   "source": [
    "y.append(4)"
   ]
  },
  {
   "cell_type": "code",
   "execution_count": 44,
   "id": "111a2a2d",
   "metadata": {},
   "outputs": [
    {
     "data": {
      "text/plain": [
       "[{1, 2, 3}, [1, 2, 3], False, True, 4, 3, 2, 1, 'nlp', 'da', 'ds', 4, 4]"
      ]
     },
     "execution_count": 44,
     "metadata": {},
     "output_type": "execute_result"
    }
   ],
   "source": [
    "y"
   ]
  },
  {
   "cell_type": "code",
   "execution_count": 45,
   "id": "dd2bff57",
   "metadata": {
    "scrolled": true
   },
   "outputs": [
    {
     "data": {
      "text/plain": [
       "3"
      ]
     },
     "execution_count": 45,
     "metadata": {},
     "output_type": "execute_result"
    }
   ],
   "source": [
    "y.count(4)"
   ]
  },
  {
   "cell_type": "code",
   "execution_count": 46,
   "id": "c34eb57b",
   "metadata": {},
   "outputs": [
    {
     "data": {
      "text/plain": [
       "[{1, 2, 3}, [1, 2, 3], False, True, 4, 3, 2, 1, 'nlp', 'da', 'ds', 4, 4]"
      ]
     },
     "execution_count": 46,
     "metadata": {},
     "output_type": "execute_result"
    }
   ],
   "source": [
    "x"
   ]
  },
  {
   "cell_type": "code",
   "execution_count": 47,
   "id": "5d805bfc",
   "metadata": {},
   "outputs": [
    {
     "data": {
      "text/plain": [
       "3"
      ]
     },
     "execution_count": 47,
     "metadata": {},
     "output_type": "execute_result"
    }
   ],
   "source": [
    "x.count(4)"
   ]
  },
  {
   "cell_type": "code",
   "execution_count": 48,
   "id": "0703c2f8",
   "metadata": {},
   "outputs": [
    {
     "data": {
      "text/plain": [
       "[{1, 2, 3}, [1, 2, 3], False, True, 4, 3, 2, 1, 'nlp', 'da', 'ds', 4, 4]"
      ]
     },
     "execution_count": 48,
     "metadata": {},
     "output_type": "execute_result"
    }
   ],
   "source": [
    "z = x.copy()\n",
    "z"
   ]
  },
  {
   "cell_type": "code",
   "execution_count": 49,
   "id": "5aab936f",
   "metadata": {},
   "outputs": [
    {
     "data": {
      "text/plain": [
       "4"
      ]
     },
     "execution_count": 49,
     "metadata": {},
     "output_type": "execute_result"
    }
   ],
   "source": [
    "z.pop(-1)"
   ]
  },
  {
   "cell_type": "code",
   "execution_count": 50,
   "id": "b0535912",
   "metadata": {},
   "outputs": [
    {
     "data": {
      "text/plain": [
       "2"
      ]
     },
     "execution_count": 50,
     "metadata": {},
     "output_type": "execute_result"
    }
   ],
   "source": [
    "z.count(4)"
   ]
  },
  {
   "cell_type": "code",
   "execution_count": 51,
   "id": "91d8e607",
   "metadata": {},
   "outputs": [
    {
     "data": {
      "text/plain": [
       "3"
      ]
     },
     "execution_count": 51,
     "metadata": {},
     "output_type": "execute_result"
    }
   ],
   "source": [
    "x.count(4)"
   ]
  },
  {
   "cell_type": "code",
   "execution_count": null,
   "id": "f77d24f4",
   "metadata": {},
   "outputs": [],
   "source": [
    "df2 = df.copy()"
   ]
  },
  {
   "cell_type": "markdown",
   "id": "d0082f38",
   "metadata": {},
   "source": [
    "# 2. Tuples in Python\n",
    "\n",
    "A tuple is an ordered, immutable collection of elements in Python. Tuples can contain elements of different types and are often used to group related data. Once a tuple is created, its elements cannot be changed.\n",
    "\n",
    "## Creating Tuples\n",
    "\n",
    "Tuples can be created by placing a comma-separated sequence of elements inside parentheses.\n",
    "\n",
    "### Example:\n",
    "```python\n",
    "# Creating a tuple\n",
    "coordinates = (10.0, 20.0)\n",
    "print(coordinates)  # Output: (10.0, 20.0)\n",
    "\n",
    "# Creating a tuple without parentheses (not recommended but valid)\n",
    "coordinates = 10.0, 20.0\n",
    "print(coordinates)  # Output: (10.0, 20.0)\n"
   ]
  },
  {
   "cell_type": "code",
   "execution_count": 52,
   "id": "62a86ea3",
   "metadata": {},
   "outputs": [],
   "source": [
    "t = 10, 20"
   ]
  },
  {
   "cell_type": "code",
   "execution_count": 53,
   "id": "f2b86250",
   "metadata": {},
   "outputs": [
    {
     "data": {
      "text/plain": [
       "tuple"
      ]
     },
     "execution_count": 53,
     "metadata": {},
     "output_type": "execute_result"
    }
   ],
   "source": [
    "type(t)"
   ]
  },
  {
   "cell_type": "code",
   "execution_count": 55,
   "id": "07c8f2cd",
   "metadata": {},
   "outputs": [],
   "source": [
    "t,l,k = 10, 20,30"
   ]
  },
  {
   "cell_type": "code",
   "execution_count": 56,
   "id": "e7232fc1",
   "metadata": {},
   "outputs": [
    {
     "data": {
      "text/plain": [
       "10"
      ]
     },
     "execution_count": 56,
     "metadata": {},
     "output_type": "execute_result"
    }
   ],
   "source": [
    "t"
   ]
  },
  {
   "cell_type": "code",
   "execution_count": 57,
   "id": "4dcfad56",
   "metadata": {},
   "outputs": [],
   "source": [
    "t = ({1, 2, 3}, [1, 2, 3], False, True, 4, 3, 2, 1, 'nlp', 'da', 'ds', 4, 4)"
   ]
  },
  {
   "cell_type": "code",
   "execution_count": 58,
   "id": "299ad9cc",
   "metadata": {},
   "outputs": [
    {
     "data": {
      "text/plain": [
       "({1, 2, 3}, [1, 2, 3], False, True, 4, 3, 2, 1, 'nlp', 'da', 'ds', 4, 4)"
      ]
     },
     "execution_count": 58,
     "metadata": {},
     "output_type": "execute_result"
    }
   ],
   "source": [
    "t"
   ]
  },
  {
   "cell_type": "code",
   "execution_count": 59,
   "id": "68e13317",
   "metadata": {},
   "outputs": [
    {
     "data": {
      "text/plain": [
       "tuple"
      ]
     },
     "execution_count": 59,
     "metadata": {},
     "output_type": "execute_result"
    }
   ],
   "source": [
    "type(t)"
   ]
  },
  {
   "cell_type": "code",
   "execution_count": 60,
   "id": "22a5547f",
   "metadata": {},
   "outputs": [
    {
     "data": {
      "text/plain": [
       "list"
      ]
     },
     "execution_count": 60,
     "metadata": {},
     "output_type": "execute_result"
    }
   ],
   "source": [
    "type(list(t))"
   ]
  },
  {
   "cell_type": "code",
   "execution_count": 62,
   "id": "6ce9ed56",
   "metadata": {},
   "outputs": [
    {
     "name": "stdout",
     "output_type": "stream",
     "text": [
      "144\n",
      "160\n"
     ]
    }
   ],
   "source": [
    "print(sys.getsizeof(t)) #tuple\n",
    "print(sys.getsizeof(list(t)))"
   ]
  },
  {
   "cell_type": "code",
   "execution_count": 63,
   "id": "5bf94f53",
   "metadata": {},
   "outputs": [
    {
     "ename": "AttributeError",
     "evalue": "'tuple' object has no attribute 'append'",
     "output_type": "error",
     "traceback": [
      "\u001b[1;31m---------------------------------------------------------------------------\u001b[0m",
      "\u001b[1;31mAttributeError\u001b[0m                            Traceback (most recent call last)",
      "\u001b[1;32m~\\AppData\\Local\\Temp\\ipykernel_35364\\711986763.py\u001b[0m in \u001b[0;36m<module>\u001b[1;34m\u001b[0m\n\u001b[1;32m----> 1\u001b[1;33m \u001b[0mt\u001b[0m\u001b[1;33m.\u001b[0m\u001b[0mappend\u001b[0m\u001b[1;33m(\u001b[0m\u001b[1;36m100\u001b[0m \u001b[1;33m)\u001b[0m\u001b[1;33m\u001b[0m\u001b[1;33m\u001b[0m\u001b[0m\n\u001b[0m",
      "\u001b[1;31mAttributeError\u001b[0m: 'tuple' object has no attribute 'append'"
     ]
    }
   ],
   "source": [
    "t.append(100)"
   ]
  },
  {
   "cell_type": "code",
   "execution_count": 64,
   "id": "7952127b",
   "metadata": {
    "scrolled": true
   },
   "outputs": [
    {
     "ename": "TypeError",
     "evalue": "'tuple' object doesn't support item deletion",
     "output_type": "error",
     "traceback": [
      "\u001b[1;31m---------------------------------------------------------------------------\u001b[0m",
      "\u001b[1;31mTypeError\u001b[0m                                 Traceback (most recent call last)",
      "\u001b[1;32m~\\AppData\\Local\\Temp\\ipykernel_35364\\3430130672.py\u001b[0m in \u001b[0;36m<module>\u001b[1;34m\u001b[0m\n\u001b[1;32m----> 1\u001b[1;33m \u001b[1;32mdel\u001b[0m \u001b[0mt\u001b[0m\u001b[1;33m[\u001b[0m\u001b[1;36m2\u001b[0m\u001b[1;33m]\u001b[0m\u001b[1;33m\u001b[0m\u001b[1;33m\u001b[0m\u001b[0m\n\u001b[0m",
      "\u001b[1;31mTypeError\u001b[0m: 'tuple' object doesn't support item deletion"
     ]
    }
   ],
   "source": [
    "del t[2]"
   ]
  },
  {
   "cell_type": "code",
   "execution_count": 65,
   "id": "50c71e69",
   "metadata": {},
   "outputs": [],
   "source": [
    "t2 = (1,3,4)"
   ]
  },
  {
   "cell_type": "code",
   "execution_count": 66,
   "id": "b927f751",
   "metadata": {},
   "outputs": [],
   "source": [
    "t = t+t2"
   ]
  },
  {
   "cell_type": "code",
   "execution_count": 67,
   "id": "837c1cf8",
   "metadata": {},
   "outputs": [
    {
     "data": {
      "text/plain": [
       "({1, 2, 3},\n",
       " [1, 2, 3],\n",
       " False,\n",
       " True,\n",
       " 4,\n",
       " 3,\n",
       " 2,\n",
       " 1,\n",
       " 'nlp',\n",
       " 'da',\n",
       " 'ds',\n",
       " 4,\n",
       " 4,\n",
       " 1,\n",
       " 3,\n",
       " 4)"
      ]
     },
     "execution_count": 67,
     "metadata": {},
     "output_type": "execute_result"
    }
   ],
   "source": [
    "t"
   ]
  },
  {
   "cell_type": "markdown",
   "id": "17b4865d",
   "metadata": {},
   "source": [
    "# Tuple Slicing in Python\n",
    "\n",
    "Tuples in Python are immutable sequences, typically used to store collections of heterogeneous data. Slicing is a technique used to retrieve a subset of elements from a tuple. It is similar to slicing in lists and strings.\n",
    "\n",
    "## Basic Syntax\n",
    "\n",
    "The syntax for slicing a tuple is as follows:\n",
    "\n",
    "```python\n",
    "tuple[start:stop:step]\n"
   ]
  },
  {
   "cell_type": "code",
   "execution_count": 69,
   "id": "37f3f775",
   "metadata": {},
   "outputs": [],
   "source": [
    "t2 = (2,3,4,5,76,8,9,0,10)"
   ]
  },
  {
   "cell_type": "code",
   "execution_count": 70,
   "id": "e98e4e91",
   "metadata": {},
   "outputs": [
    {
     "data": {
      "text/plain": [
       "(2, 3, 4, 5)"
      ]
     },
     "execution_count": 70,
     "metadata": {},
     "output_type": "execute_result"
    }
   ],
   "source": [
    "t2[0:4]"
   ]
  },
  {
   "cell_type": "code",
   "execution_count": 71,
   "id": "4e9a6dff",
   "metadata": {},
   "outputs": [
    {
     "data": {
      "text/plain": [
       "(8, 9, 0, 10)"
      ]
     },
     "execution_count": 71,
     "metadata": {},
     "output_type": "execute_result"
    }
   ],
   "source": [
    "t2[5:]"
   ]
  },
  {
   "cell_type": "code",
   "execution_count": 73,
   "id": "a42f6a40",
   "metadata": {},
   "outputs": [],
   "source": [
    "t2[0:4] + t2[5:] \n",
    "t2 = t2[0:4] + t2[5:] "
   ]
  },
  {
   "cell_type": "code",
   "execution_count": 74,
   "id": "33deb360",
   "metadata": {},
   "outputs": [
    {
     "data": {
      "text/plain": [
       "(2, 3, 4, 5, 8, 9, 0, 10)"
      ]
     },
     "execution_count": 74,
     "metadata": {},
     "output_type": "execute_result"
    }
   ],
   "source": [
    "t2"
   ]
  },
  {
   "cell_type": "code",
   "execution_count": 75,
   "id": "f32438c1",
   "metadata": {},
   "outputs": [
    {
     "data": {
      "text/plain": [
       "3"
      ]
     },
     "execution_count": 75,
     "metadata": {},
     "output_type": "execute_result"
    }
   ],
   "source": [
    "t2.index(5)"
   ]
  },
  {
   "cell_type": "code",
   "execution_count": 76,
   "id": "3d56a45e",
   "metadata": {},
   "outputs": [
    {
     "data": {
      "text/plain": [
       "1"
      ]
     },
     "execution_count": 76,
     "metadata": {},
     "output_type": "execute_result"
    }
   ],
   "source": [
    "t2.count(3)"
   ]
  },
  {
   "cell_type": "code",
   "execution_count": 79,
   "id": "e1b0b69a",
   "metadata": {},
   "outputs": [
    {
     "data": {
      "text/plain": [
       "(2, 3, 4, 5, 8, 9, 0, 10, 10)"
      ]
     },
     "execution_count": 79,
     "metadata": {},
     "output_type": "execute_result"
    }
   ],
   "source": [
    "t2 = (2, 3, 4, 5, 8, 9, 0, 10,10)\n",
    "t2"
   ]
  },
  {
   "cell_type": "markdown",
   "id": "e6891f2a",
   "metadata": {},
   "source": [
    "# 3. Sets in Python\n",
    "\n",
    "A set is an `unordered` collection of unique elements in Python. Sets are mutable, meaning you can add or remove elements, but they do not allow duplicate values.\n",
    "\n",
    "## Creating Sets\n",
    "\n",
    "Sets can be created using curly braces `{}` or the `set()` function.\n",
    "\n",
    "### Example:\n",
    "```python\n",
    "# Creating a set with curly braces\n",
    "dep = {\"ai\", \"ml\", \"ds\"}\n",
    "print(dep)  # Output: {\"ai\", \"ml\", \"ds\"}\n",
    "\n",
    "# Creating a set with the set() function\n",
    "numbers = set([1, 2, 3, 4, 5])\n",
    "print(numbers)  # Output: {1, 2, 3, 4, 5}\n",
    "\n",
    "# Creating an empty set\n",
    "empty_set = set()\n",
    "print(empty_set)  # Output: set()\n"
   ]
  },
  {
   "cell_type": "code",
   "execution_count": 84,
   "id": "48f93951",
   "metadata": {},
   "outputs": [],
   "source": [
    "s1 = {1,2,3}\n",
    "s2 = {3,4,5}"
   ]
  },
  {
   "cell_type": "code",
   "execution_count": 86,
   "id": "5e8bdb7f",
   "metadata": {},
   "outputs": [
    {
     "data": {
      "text/plain": [
       "{1, 2, 3}"
      ]
     },
     "execution_count": 86,
     "metadata": {},
     "output_type": "execute_result"
    }
   ],
   "source": [
    "s1"
   ]
  },
  {
   "cell_type": "code",
   "execution_count": 87,
   "id": "0a16d82d",
   "metadata": {},
   "outputs": [
    {
     "data": {
      "text/plain": [
       "{3, 4, 5}"
      ]
     },
     "execution_count": 87,
     "metadata": {},
     "output_type": "execute_result"
    }
   ],
   "source": [
    "s2"
   ]
  },
  {
   "cell_type": "code",
   "execution_count": 88,
   "id": "015590d7",
   "metadata": {},
   "outputs": [
    {
     "data": {
      "text/plain": [
       "{1, 2, 3, 4, 5}"
      ]
     },
     "execution_count": 88,
     "metadata": {},
     "output_type": "execute_result"
    }
   ],
   "source": [
    "s1.union(s2)"
   ]
  },
  {
   "cell_type": "code",
   "execution_count": 89,
   "id": "684ae686",
   "metadata": {},
   "outputs": [
    {
     "data": {
      "text/plain": [
       "{3}"
      ]
     },
     "execution_count": 89,
     "metadata": {},
     "output_type": "execute_result"
    }
   ],
   "source": [
    "s1.intersection(s2)"
   ]
  },
  {
   "cell_type": "code",
   "execution_count": 90,
   "id": "e21113b9",
   "metadata": {},
   "outputs": [
    {
     "data": {
      "text/plain": [
       "{1, 2}"
      ]
     },
     "execution_count": 90,
     "metadata": {},
     "output_type": "execute_result"
    }
   ],
   "source": [
    "s1.difference(s2)"
   ]
  },
  {
   "cell_type": "code",
   "execution_count": 91,
   "id": "8949e2c9",
   "metadata": {},
   "outputs": [
    {
     "data": {
      "text/plain": [
       "{1, 2, 4, 5}"
      ]
     },
     "execution_count": 91,
     "metadata": {},
     "output_type": "execute_result"
    }
   ],
   "source": [
    "s1.symmetric_difference(s2)"
   ]
  },
  {
   "cell_type": "code",
   "execution_count": 92,
   "id": "9f0ce428",
   "metadata": {},
   "outputs": [
    {
     "data": {
      "text/plain": [
       "{4, 5}"
      ]
     },
     "execution_count": 92,
     "metadata": {},
     "output_type": "execute_result"
    }
   ],
   "source": [
    "s2.difference(s1)"
   ]
  },
  {
   "cell_type": "code",
   "execution_count": 93,
   "id": "7a3b732e",
   "metadata": {},
   "outputs": [
    {
     "data": {
      "text/plain": [
       "{1, 2, 3, 4, 5}"
      ]
     },
     "execution_count": 93,
     "metadata": {},
     "output_type": "execute_result"
    }
   ],
   "source": [
    "s1 | s2 #union"
   ]
  },
  {
   "cell_type": "code",
   "execution_count": 94,
   "id": "3e3fc231",
   "metadata": {},
   "outputs": [
    {
     "data": {
      "text/plain": [
       "{3}"
      ]
     },
     "execution_count": 94,
     "metadata": {},
     "output_type": "execute_result"
    }
   ],
   "source": [
    "s1 & s2 #intersection"
   ]
  },
  {
   "cell_type": "markdown",
   "id": "e8fb2317",
   "metadata": {},
   "source": [
    "# Set Methods"
   ]
  },
  {
   "cell_type": "code",
   "execution_count": 95,
   "id": "bd832abd",
   "metadata": {},
   "outputs": [
    {
     "data": {
      "text/plain": [
       "{1, 2, 3}"
      ]
     },
     "execution_count": 95,
     "metadata": {},
     "output_type": "execute_result"
    }
   ],
   "source": [
    "s1"
   ]
  },
  {
   "cell_type": "code",
   "execution_count": 96,
   "id": "49c57784",
   "metadata": {},
   "outputs": [],
   "source": [
    "s1.add(10)"
   ]
  },
  {
   "cell_type": "code",
   "execution_count": 97,
   "id": "31df5a84",
   "metadata": {
    "scrolled": true
   },
   "outputs": [
    {
     "data": {
      "text/plain": [
       "{1, 2, 3, 10}"
      ]
     },
     "execution_count": 97,
     "metadata": {},
     "output_type": "execute_result"
    }
   ],
   "source": [
    "s1"
   ]
  },
  {
   "cell_type": "code",
   "execution_count": null,
   "id": "888216a5",
   "metadata": {},
   "outputs": [],
   "source": [
    "s1"
   ]
  },
  {
   "cell_type": "code",
   "execution_count": 98,
   "id": "895206cf",
   "metadata": {},
   "outputs": [],
   "source": [
    "s1.remove(1) #index na kintu ; eta value"
   ]
  },
  {
   "cell_type": "code",
   "execution_count": 99,
   "id": "8678ad41",
   "metadata": {},
   "outputs": [
    {
     "ename": "TypeError",
     "evalue": "'set' object is not subscriptable",
     "output_type": "error",
     "traceback": [
      "\u001b[1;31m---------------------------------------------------------------------------\u001b[0m",
      "\u001b[1;31mTypeError\u001b[0m                                 Traceback (most recent call last)",
      "\u001b[1;32m~\\AppData\\Local\\Temp\\ipykernel_35364\\643609873.py\u001b[0m in \u001b[0;36m<module>\u001b[1;34m\u001b[0m\n\u001b[1;32m----> 1\u001b[1;33m \u001b[0ms1\u001b[0m\u001b[1;33m[\u001b[0m\u001b[1;36m0\u001b[0m\u001b[1;33m]\u001b[0m\u001b[1;33m\u001b[0m\u001b[1;33m\u001b[0m\u001b[0m\n\u001b[0m",
      "\u001b[1;31mTypeError\u001b[0m: 'set' object is not subscriptable"
     ]
    }
   ],
   "source": [
    "s1[0] #unordered"
   ]
  },
  {
   "cell_type": "code",
   "execution_count": null,
   "id": "160633d8",
   "metadata": {},
   "outputs": [],
   "source": []
  },
  {
   "cell_type": "markdown",
   "id": "98662c0a",
   "metadata": {},
   "source": [
    "# 4. Frozen Sets in Python\n",
    "\n",
    "A `frozenset` is an `immutable version` of a set. Once created, elements cannot be added or removed from a `frozenset`. This makes `frozenset` hashable and eligible to be used as keys in dictionaries or elements of other sets.\n",
    "\n",
    "## Creating Frozen Sets\n",
    "\n",
    "Frozen sets can be created using the `frozenset()` function.\n",
    "\n",
    "### Example:\n",
    "```python\n",
    "# Creating a frozenset\n",
    "frozen_fruits = frozenset([\"ai\", \"ds\", \"ml\"])\n",
    "print(frozen_fruits)  # Output: frozenset({\"ai\", \"ds\", \"ml\"})\n"
   ]
  },
  {
   "cell_type": "code",
   "execution_count": 101,
   "id": "eefccfc7",
   "metadata": {},
   "outputs": [
    {
     "data": {
      "text/plain": [
       "frozenset({'ai', 'ds', 'ml'})"
      ]
     },
     "execution_count": 101,
     "metadata": {},
     "output_type": "execute_result"
    }
   ],
   "source": [
    "frozen_fruits = frozenset([\"ai\", \"ds\", \"ml\"])\n",
    "frozen_fruits"
   ]
  },
  {
   "cell_type": "code",
   "execution_count": 103,
   "id": "ae4fedea",
   "metadata": {},
   "outputs": [
    {
     "data": {
      "text/plain": [
       "frozenset"
      ]
     },
     "execution_count": 103,
     "metadata": {},
     "output_type": "execute_result"
    }
   ],
   "source": [
    "type(frozen_fruits)"
   ]
  },
  {
   "cell_type": "code",
   "execution_count": 104,
   "id": "a4957985",
   "metadata": {},
   "outputs": [
    {
     "ename": "AttributeError",
     "evalue": "'frozenset' object has no attribute 'add'",
     "output_type": "error",
     "traceback": [
      "\u001b[1;31m---------------------------------------------------------------------------\u001b[0m",
      "\u001b[1;31mAttributeError\u001b[0m                            Traceback (most recent call last)",
      "\u001b[1;32m~\\AppData\\Local\\Temp\\ipykernel_35364\\963727241.py\u001b[0m in \u001b[0;36m<module>\u001b[1;34m\u001b[0m\n\u001b[1;32m----> 1\u001b[1;33m \u001b[0mfrozen_fruits\u001b[0m\u001b[1;33m.\u001b[0m\u001b[0madd\u001b[0m\u001b[1;33m(\u001b[0m\u001b[1;34m'me'\u001b[0m\u001b[1;33m)\u001b[0m\u001b[1;33m\u001b[0m\u001b[1;33m\u001b[0m\u001b[0m\n\u001b[0m",
      "\u001b[1;31mAttributeError\u001b[0m: 'frozenset' object has no attribute 'add'"
     ]
    }
   ],
   "source": [
    "frozen_fruits.add('me')"
   ]
  },
  {
   "cell_type": "code",
   "execution_count": 105,
   "id": "727f7806",
   "metadata": {},
   "outputs": [
    {
     "ename": "AttributeError",
     "evalue": "'frozenset' object has no attribute 'remove'",
     "output_type": "error",
     "traceback": [
      "\u001b[1;31m---------------------------------------------------------------------------\u001b[0m",
      "\u001b[1;31mAttributeError\u001b[0m                            Traceback (most recent call last)",
      "\u001b[1;32m~\\AppData\\Local\\Temp\\ipykernel_35364\\3079946711.py\u001b[0m in \u001b[0;36m<module>\u001b[1;34m\u001b[0m\n\u001b[1;32m----> 1\u001b[1;33m \u001b[0mfrozen_fruits\u001b[0m\u001b[1;33m.\u001b[0m\u001b[0mremove\u001b[0m\u001b[1;33m(\u001b[0m\u001b[1;34m'me'\u001b[0m\u001b[1;33m)\u001b[0m\u001b[1;33m\u001b[0m\u001b[1;33m\u001b[0m\u001b[0m\n\u001b[0m",
      "\u001b[1;31mAttributeError\u001b[0m: 'frozenset' object has no attribute 'remove'"
     ]
    }
   ],
   "source": [
    "frozen_fruits.remove('me')"
   ]
  },
  {
   "cell_type": "code",
   "execution_count": 106,
   "id": "7ad75a58",
   "metadata": {},
   "outputs": [
    {
     "data": {
      "text/plain": [
       "{2, 3, 10}"
      ]
     },
     "execution_count": 106,
     "metadata": {},
     "output_type": "execute_result"
    }
   ],
   "source": [
    "s1"
   ]
  },
  {
   "cell_type": "code",
   "execution_count": 107,
   "id": "b7d0b044",
   "metadata": {},
   "outputs": [],
   "source": [
    "s1.remove(2)"
   ]
  },
  {
   "cell_type": "code",
   "execution_count": 108,
   "id": "a3d0e6ea",
   "metadata": {},
   "outputs": [
    {
     "data": {
      "text/plain": [
       "{3, 10}"
      ]
     },
     "execution_count": 108,
     "metadata": {},
     "output_type": "execute_result"
    }
   ],
   "source": [
    "s1"
   ]
  },
  {
   "cell_type": "code",
   "execution_count": 109,
   "id": "a90a0b4d",
   "metadata": {},
   "outputs": [
    {
     "ename": "KeyError",
     "evalue": "2",
     "output_type": "error",
     "traceback": [
      "\u001b[1;31m---------------------------------------------------------------------------\u001b[0m",
      "\u001b[1;31mKeyError\u001b[0m                                  Traceback (most recent call last)",
      "\u001b[1;32m~\\AppData\\Local\\Temp\\ipykernel_35364\\4278504244.py\u001b[0m in \u001b[0;36m<module>\u001b[1;34m\u001b[0m\n\u001b[1;32m----> 1\u001b[1;33m \u001b[0ms1\u001b[0m\u001b[1;33m.\u001b[0m\u001b[0mremove\u001b[0m\u001b[1;33m(\u001b[0m\u001b[1;36m2\u001b[0m\u001b[1;33m)\u001b[0m \u001b[1;31m# ogni porikkha\u001b[0m\u001b[1;33m\u001b[0m\u001b[1;33m\u001b[0m\u001b[0m\n\u001b[0m",
      "\u001b[1;31mKeyError\u001b[0m: 2"
     ]
    }
   ],
   "source": [
    "s1.remove(2) # ogni porikkha"
   ]
  },
  {
   "cell_type": "code",
   "execution_count": 111,
   "id": "ea31b146",
   "metadata": {},
   "outputs": [],
   "source": [
    "s1.discard(3)"
   ]
  },
  {
   "cell_type": "code",
   "execution_count": 112,
   "id": "8c8530dc",
   "metadata": {},
   "outputs": [
    {
     "data": {
      "text/plain": [
       "{10}"
      ]
     },
     "execution_count": 112,
     "metadata": {},
     "output_type": "execute_result"
    }
   ],
   "source": [
    "s1"
   ]
  },
  {
   "cell_type": "code",
   "execution_count": 113,
   "id": "ac34fa42",
   "metadata": {},
   "outputs": [
    {
     "data": {
      "text/plain": [
       "{10}"
      ]
     },
     "execution_count": 113,
     "metadata": {},
     "output_type": "execute_result"
    }
   ],
   "source": [
    "s1.discard(3) # jodi thake tahole delete korbe r jodi na thake tahole ghumai jabe\n",
    "s1"
   ]
  },
  {
   "cell_type": "markdown",
   "id": "3ca2cc6f",
   "metadata": {},
   "source": [
    "# 5. Dictionaries in Python\n",
    "\n",
    "A dictionary is an unordered collection of key-value pairs. Keys must be unique and immutable (such as strings, numbers, or tuples), while values can be of any data type.\n",
    "\n",
    "## Creating Dictionaries\n",
    "\n",
    "Dictionaries can be created using curly braces `{}` with key-value pairs or the `dict()` function.\n",
    "\n",
    "### Example:\n",
    "```python\n",
    "# Creating a dictionary using curly braces\n",
    "person = {\n",
    "    \"name\": \"Shakil\",\n",
    "    \"age\": 27,\n",
    "    \"city\": \"Munich\"\n",
    "}\n",
    "print(person)  # Output: {'name': 'Shakil', 'age': 27, 'city': 'Munich'}\n",
    "\n",
    "# Creating a dictionary using the dict() function\n",
    "person = dict(name=\"Shakil\", age=28, city=\"Erlangen\")\n",
    "print(person)  # Output: {'name': 'Shakil', 'age': 28, 'city': 'Erlangen'}\n"
   ]
  },
  {
   "cell_type": "code",
   "execution_count": 114,
   "id": "95eb1338",
   "metadata": {},
   "outputs": [
    {
     "name": "stdout",
     "output_type": "stream",
     "text": [
      "{'name': 'Shakil', 'age': 27, 'city': 'Munich'}\n",
      "{'name': 'Shakil', 'age': 28, 'city': 'Erlangen'}\n"
     ]
    }
   ],
   "source": [
    "# Creating a dictionary using curly braces\n",
    "person = {\n",
    "    \"name\": \"Shakil\",\n",
    "    \"age\": 27,\n",
    "    \"city\": \"Munich\"\n",
    "}\n",
    "\n",
    "print(person)  # Output: {'name': 'Shakil', 'age': 27, 'city': 'Munich'}\n",
    "\n",
    "# Creating a dictionary using the dict() function\n",
    "person = dict(name=\"Shakil\", age=28, city=\"Erlangen\")\n",
    "print(person)  # Output: {'name': 'Shakil', 'age': 28, 'city': 'Erlangen'}"
   ]
  },
  {
   "cell_type": "code",
   "execution_count": 115,
   "id": "a1031b5b",
   "metadata": {},
   "outputs": [
    {
     "data": {
      "text/plain": [
       "{'name': 'Shakil', 'age': 28, 'city': 'Erlangen'}"
      ]
     },
     "execution_count": 115,
     "metadata": {},
     "output_type": "execute_result"
    }
   ],
   "source": [
    "person # dict"
   ]
  },
  {
   "cell_type": "code",
   "execution_count": 116,
   "id": "49700383",
   "metadata": {},
   "outputs": [
    {
     "data": {
      "text/plain": [
       "dict"
      ]
     },
     "execution_count": 116,
     "metadata": {},
     "output_type": "execute_result"
    }
   ],
   "source": [
    "type(person)"
   ]
  },
  {
   "cell_type": "code",
   "execution_count": 117,
   "id": "0edf9164",
   "metadata": {},
   "outputs": [
    {
     "data": {
      "text/plain": [
       "dict_keys(['name', 'age', 'city'])"
      ]
     },
     "execution_count": 117,
     "metadata": {},
     "output_type": "execute_result"
    }
   ],
   "source": [
    "person.keys()"
   ]
  },
  {
   "cell_type": "code",
   "execution_count": 118,
   "id": "ecba5dd9",
   "metadata": {},
   "outputs": [
    {
     "data": {
      "text/plain": [
       "dict_values(['Shakil', 28, 'Erlangen'])"
      ]
     },
     "execution_count": 118,
     "metadata": {},
     "output_type": "execute_result"
    }
   ],
   "source": [
    "person.values()"
   ]
  },
  {
   "cell_type": "code",
   "execution_count": 122,
   "id": "57e7113d",
   "metadata": {},
   "outputs": [],
   "source": [
    "person = { \n",
    "    \"name\": [\"Shakil\", 'Opu'], \n",
    "    \"age\": [27, 30], \n",
    "    \"city\": [\"Munich\", 'Bayern'], \n",
    "    \"Occu\": ['Engineer','Rider'] \n",
    "}"
   ]
  },
  {
   "cell_type": "code",
   "execution_count": 123,
   "id": "962d3d27",
   "metadata": {},
   "outputs": [
    {
     "data": {
      "text/plain": [
       "{'name': ['Shakil', 'Opu'],\n",
       " 'age': [27, 30],\n",
       " 'city': ['Munich', 'Bayern'],\n",
       " 'Occu': ['Engineer', 'Rider']}"
      ]
     },
     "execution_count": 123,
     "metadata": {},
     "output_type": "execute_result"
    }
   ],
   "source": [
    "person"
   ]
  },
  {
   "cell_type": "markdown",
   "id": "a82b6e4e",
   "metadata": {},
   "source": [
    "# User Input of Dictionary"
   ]
  },
  {
   "cell_type": "code",
   "execution_count": 127,
   "id": "b0137309",
   "metadata": {},
   "outputs": [
    {
     "name": "stdout",
     "output_type": "stream",
     "text": [
      "2\n",
      "num1\n",
      "10\n",
      "num2\n",
      "300\n",
      "{'num1': 10, 'num2': 300}\n"
     ]
    }
   ],
   "source": [
    "d = {}\n",
    "n = int(input())\n",
    "\n",
    "for k in range(n):\n",
    "    keys = input()\n",
    "    value = int(input())\n",
    "    d[keys] = value\n",
    "\n",
    "print(d)"
   ]
  },
  {
   "cell_type": "code",
   "execution_count": 126,
   "id": "25397762",
   "metadata": {},
   "outputs": [
    {
     "data": {
      "text/plain": [
       "dict_keys(['a', 'b'])"
      ]
     },
     "execution_count": 126,
     "metadata": {},
     "output_type": "execute_result"
    }
   ],
   "source": [
    "d.keys()"
   ]
  },
  {
   "cell_type": "markdown",
   "id": "2b8a499b",
   "metadata": {},
   "source": [
    "# List Comprehension: Elegant Way to Create Lists\n",
    "\n",
    "List comprehension provides a concise way to create lists in Python. It consists of brackets containing an expression followed by a `for` clause, and optionally `if` clauses. List comprehensions are a more compact and readable alternative to using loops for creating lists.\n",
    "\n",
    "## Basic Syntax\n",
    "\n",
    "```python\n",
    "[expression for item in iterable if condition]\n"
   ]
  },
  {
   "cell_type": "markdown",
   "id": "cbe83051",
   "metadata": {},
   "source": [
    "## Components\n",
    "1. expression: The expression is the value or operation that is applied to each element. <br>\n",
    "2. item: The variable that takes the value of the item inside the iterable. <br>\n",
    "3. iterable: A collection of elements (e.g., list, tuple, string) to iterate over. <br>\n",
    "4. condition (optional): A condition to filter items from the iterable."
   ]
  },
  {
   "cell_type": "markdown",
   "id": "b07614ed",
   "metadata": {},
   "source": [
    "squares = [x**2 for x in range(10)] <br>\n",
    "print(squares) <br>\n",
    "Output: [0, 1, 4, 9, 16, 25, 36, 49, 64, 81]"
   ]
  },
  {
   "cell_type": "code",
   "execution_count": 128,
   "id": "25bf7d9f",
   "metadata": {},
   "outputs": [
    {
     "name": "stdout",
     "output_type": "stream",
     "text": [
      "1\n",
      "3\n",
      "5\n",
      "7\n",
      "9\n"
     ]
    }
   ],
   "source": [
    "for i in range(1,10): \n",
    "    if i%2==0:  \n",
    "        continue \n",
    "    print(i)"
   ]
  },
  {
   "cell_type": "code",
   "execution_count": 130,
   "id": "eaa6ec55",
   "metadata": {},
   "outputs": [
    {
     "data": {
      "text/plain": [
       "[1, 3, 5, 7, 9]"
      ]
     },
     "execution_count": 130,
     "metadata": {},
     "output_type": "execute_result"
    }
   ],
   "source": [
    "[i for i in range(10) if i%2!=0]"
   ]
  },
  {
   "cell_type": "code",
   "execution_count": 131,
   "id": "abb6241e",
   "metadata": {},
   "outputs": [
    {
     "data": {
      "text/plain": [
       "[0, 1, 4, 9, 16, 25, 36, 49, 64, 81]"
      ]
     },
     "execution_count": 131,
     "metadata": {},
     "output_type": "execute_result"
    }
   ],
   "source": [
    "squares = [x**2 for x in range(10)]\n",
    "squares"
   ]
  },
  {
   "cell_type": "code",
   "execution_count": 132,
   "id": "89a39fdf",
   "metadata": {},
   "outputs": [
    {
     "data": {
      "text/plain": [
       "[5, 6, 7, 8, 9, 10, 11, 12, 13, 14]"
      ]
     },
     "execution_count": 132,
     "metadata": {},
     "output_type": "execute_result"
    }
   ],
   "source": [
    "squares = [x+5 for x in range(10)]\n",
    "squares"
   ]
  },
  {
   "cell_type": "code",
   "execution_count": 133,
   "id": "c30f8d11",
   "metadata": {},
   "outputs": [
    {
     "name": "stdout",
     "output_type": "stream",
     "text": [
      "5\n",
      "6\n",
      "7\n",
      "8\n",
      "9\n",
      "10\n",
      "11\n",
      "12\n",
      "13\n",
      "14\n"
     ]
    },
    {
     "data": {
      "text/plain": [
       "[None, None, None, None, None, None, None, None, None, None]"
      ]
     },
     "execution_count": 133,
     "metadata": {},
     "output_type": "execute_result"
    }
   ],
   "source": [
    "squares = [print(x+5) for x in range(10)]\n",
    "squares"
   ]
  },
  {
   "cell_type": "code",
   "execution_count": 134,
   "id": "d62954ac",
   "metadata": {},
   "outputs": [
    {
     "name": "stdout",
     "output_type": "stream",
     "text": [
      "5\n",
      "6\n",
      "7\n",
      "8\n",
      "9\n",
      "10\n",
      "11\n",
      "12\n",
      "13\n",
      "14\n"
     ]
    }
   ],
   "source": [
    "squares = [print(x+5) for x in range(10)]"
   ]
  },
  {
   "cell_type": "code",
   "execution_count": 135,
   "id": "73519cf3",
   "metadata": {},
   "outputs": [
    {
     "data": {
      "text/plain": [
       "[None, None, None, None, None, None, None, None, None, None]"
      ]
     },
     "execution_count": 135,
     "metadata": {},
     "output_type": "execute_result"
    }
   ],
   "source": [
    "squares"
   ]
  },
  {
   "cell_type": "markdown",
   "id": "75307c7b",
   "metadata": {},
   "source": [
    "# Tuple Comprehension in Python\n",
    "\n",
    "Although Python does not support tuple comprehensions directly, you can achieve similar functionality using generator expressions or by converting a list comprehension to a tuple.\n",
    "\n",
    "## Generator\n",
    "A generator in Python is a special type of `iterable` that allows you to iterate over a sequence of values. Unlike lists, which store all values in memory, a generator computes each value on the fly and yields it one at a time, which makes it more memory efficient, especially for large datasets. <br>\n",
    "\n",
    "#Generator expression to generate squares of even numbers from 0 to 9 <br>\n",
    "even_squares = (x**2 for x in range(10) if x % 2 == 0)\n",
    "\n",
    "## Using Generator Expressions\n",
    "\n",
    "A generator expression is similar to a list comprehension, but it uses parentheses `()` instead of square brackets `[]`. It generates items one by one and is more memory efficient than a list comprehension.\n",
    "\n",
    "### Example:\n",
    "```python\n",
    "# Generator expression\n",
    "gen_expr = (x**2 for x in range(10))\n",
    "\n",
    "# Converting generator expression to tuple\n",
    "tuple_from_gen_expr = tuple(gen_expr)\n",
    "print(tuple_from_gen_expr)\n",
    "# Output: (0, 1, 4, 9, 16, 25, 36, 49, 64, 81)\n"
   ]
  },
  {
   "cell_type": "code",
   "execution_count": 137,
   "id": "8a73b430",
   "metadata": {},
   "outputs": [
    {
     "data": {
      "text/plain": [
       "[0, 1, 4, 9, 16, 25, 36, 49, 64, 81]"
      ]
     },
     "execution_count": 137,
     "metadata": {},
     "output_type": "execute_result"
    }
   ],
   "source": [
    "li = [x**2 for x in range(10)]\n",
    "li"
   ]
  },
  {
   "cell_type": "code",
   "execution_count": 138,
   "id": "95c45a76",
   "metadata": {},
   "outputs": [
    {
     "data": {
      "text/plain": [
       "<generator object <genexpr> at 0x000001F728A463C0>"
      ]
     },
     "execution_count": 138,
     "metadata": {},
     "output_type": "execute_result"
    }
   ],
   "source": [
    "gen_expr = (x**2 for x in range(10))\n",
    "gen_expr"
   ]
  },
  {
   "cell_type": "code",
   "execution_count": 139,
   "id": "54b906de",
   "metadata": {},
   "outputs": [
    {
     "data": {
      "text/plain": [
       "(0, 1, 4, 9, 16, 25, 36, 49, 64, 81)"
      ]
     },
     "execution_count": 139,
     "metadata": {},
     "output_type": "execute_result"
    }
   ],
   "source": [
    "tuple(gen_expr)"
   ]
  },
  {
   "cell_type": "code",
   "execution_count": 145,
   "id": "4a0e1e15",
   "metadata": {},
   "outputs": [
    {
     "name": "stdout",
     "output_type": "stream",
     "text": [
      "184\n",
      "40\n"
     ]
    }
   ],
   "source": [
    "print(sys.getsizeof(li))\n",
    "print(sys.getsizeof(tuple(gen_expr)))"
   ]
  },
  {
   "cell_type": "code",
   "execution_count": 147,
   "id": "108cf671",
   "metadata": {},
   "outputs": [
    {
     "name": "stdout",
     "output_type": "stream",
     "text": [
      "120\n"
     ]
    }
   ],
   "source": [
    "print(sys.getsizeof(tuple(li)))"
   ]
  },
  {
   "cell_type": "markdown",
   "id": "ee630fea",
   "metadata": {},
   "source": [
    "# Working with Pandas DataFrame\n",
    "\n",
    "In this example, we will create a Pandas DataFrame using the dictionary:\n",
    "```python\n",
    "person = {\n",
    "    \"name\": \"Shakil\",\n",
    "    \"age\": 27,\n",
    "    \"city\": \"Munich\"\n",
    "}\n"
   ]
  },
  {
   "cell_type": "markdown",
   "id": "a47ca743",
   "metadata": {},
   "source": [
    "[Must Download This Book](https://github.com/rashakil-ds/Top-Data-Science-AI-Book-Collection/blob/main/Books/Master%20Data%20Science%20and%20Data%20Analysis%20with%20Pandas.pdf)\n",
    "\n",
    "[Watch This Video](https://www.youtube.com/playlist?list=PLKdU0fuY4OFdsmcM817qp1L3ngU5amkak)"
   ]
  },
  {
   "cell_type": "markdown",
   "id": "c1c64737",
   "metadata": {},
   "source": [
    "#!pip install library_name <br>\n",
    "#!pip install pandas"
   ]
  },
  {
   "cell_type": "code",
   "execution_count": 155,
   "id": "99fbcc14",
   "metadata": {},
   "outputs": [
    {
     "name": "stdout",
     "output_type": "stream",
     "text": [
      "Requirement already satisfied: pandas in c:\\users\\rashe\\anaconda3\\lib\\site-packages (1.4.4)\n",
      "Requirement already satisfied: python-dateutil>=2.8.1 in c:\\users\\rashe\\anaconda3\\lib\\site-packages (from pandas) (2.8.2)\n",
      "Requirement already satisfied: pytz>=2020.1 in c:\\users\\rashe\\anaconda3\\lib\\site-packages (from pandas) (2022.1)\n",
      "Requirement already satisfied: numpy>=1.18.5 in c:\\users\\rashe\\anaconda3\\lib\\site-packages (from pandas) (1.21.5)\n",
      "Requirement already satisfied: six>=1.5 in c:\\users\\rashe\\anaconda3\\lib\\site-packages (from python-dateutil>=2.8.1->pandas) (1.16.0)\n"
     ]
    },
    {
     "name": "stderr",
     "output_type": "stream",
     "text": [
      "WARNING: Ignoring invalid distribution -rotobuf (c:\\users\\rashe\\anaconda3\\lib\\site-packages)\n",
      "WARNING: Ignoring invalid distribution -rotobuf (c:\\users\\rashe\\anaconda3\\lib\\site-packages)\n",
      "WARNING: Ignoring invalid distribution -rotobuf (c:\\users\\rashe\\anaconda3\\lib\\site-packages)\n"
     ]
    }
   ],
   "source": [
    "!pip install pandas"
   ]
  },
  {
   "cell_type": "code",
   "execution_count": 156,
   "id": "2df73cdd",
   "metadata": {},
   "outputs": [],
   "source": [
    "import pandas as pd"
   ]
  },
  {
   "cell_type": "code",
   "execution_count": 157,
   "id": "4585931d",
   "metadata": {},
   "outputs": [],
   "source": [
    "people = [\n",
    "    [\"Shakil\", 27, \"Munich\"],\n",
    "    [\"ABC\", 25, \"Berlin\"],\n",
    "    [\"DEF\", 30, \"Hamburg\"],\n",
    "    [\"JKL\", 35, \"Munich\"]\n",
    "]"
   ]
  },
  {
   "cell_type": "code",
   "execution_count": 158,
   "id": "5a77525d",
   "metadata": {},
   "outputs": [
    {
     "data": {
      "text/plain": [
       "[['Shakil', 27, 'Munich'],\n",
       " ['ABC', 25, 'Berlin'],\n",
       " ['DEF', 30, 'Hamburg'],\n",
       " ['JKL', 35, 'Munich']]"
      ]
     },
     "execution_count": 158,
     "metadata": {},
     "output_type": "execute_result"
    }
   ],
   "source": [
    "people"
   ]
  },
  {
   "cell_type": "code",
   "execution_count": 162,
   "id": "ffe50084",
   "metadata": {},
   "outputs": [],
   "source": [
    "df = pd.DataFrame(people, columns=['name','age','city'])"
   ]
  },
  {
   "cell_type": "code",
   "execution_count": 163,
   "id": "da2b704d",
   "metadata": {},
   "outputs": [
    {
     "data": {
      "text/html": [
       "<div>\n",
       "<style scoped>\n",
       "    .dataframe tbody tr th:only-of-type {\n",
       "        vertical-align: middle;\n",
       "    }\n",
       "\n",
       "    .dataframe tbody tr th {\n",
       "        vertical-align: top;\n",
       "    }\n",
       "\n",
       "    .dataframe thead th {\n",
       "        text-align: right;\n",
       "    }\n",
       "</style>\n",
       "<table border=\"1\" class=\"dataframe\">\n",
       "  <thead>\n",
       "    <tr style=\"text-align: right;\">\n",
       "      <th></th>\n",
       "      <th>name</th>\n",
       "      <th>age</th>\n",
       "      <th>city</th>\n",
       "    </tr>\n",
       "  </thead>\n",
       "  <tbody>\n",
       "    <tr>\n",
       "      <th>0</th>\n",
       "      <td>Shakil</td>\n",
       "      <td>27</td>\n",
       "      <td>Munich</td>\n",
       "    </tr>\n",
       "    <tr>\n",
       "      <th>1</th>\n",
       "      <td>ABC</td>\n",
       "      <td>25</td>\n",
       "      <td>Berlin</td>\n",
       "    </tr>\n",
       "    <tr>\n",
       "      <th>2</th>\n",
       "      <td>DEF</td>\n",
       "      <td>30</td>\n",
       "      <td>Hamburg</td>\n",
       "    </tr>\n",
       "    <tr>\n",
       "      <th>3</th>\n",
       "      <td>JKL</td>\n",
       "      <td>35</td>\n",
       "      <td>Munich</td>\n",
       "    </tr>\n",
       "  </tbody>\n",
       "</table>\n",
       "</div>"
      ],
      "text/plain": [
       "     name  age     city\n",
       "0  Shakil   27   Munich\n",
       "1     ABC   25   Berlin\n",
       "2     DEF   30  Hamburg\n",
       "3     JKL   35   Munich"
      ]
     },
     "execution_count": 163,
     "metadata": {},
     "output_type": "execute_result"
    }
   ],
   "source": [
    "df"
   ]
  },
  {
   "cell_type": "markdown",
   "id": "da8ec65c",
   "metadata": {},
   "source": [
    "# dictionary"
   ]
  },
  {
   "cell_type": "code",
   "execution_count": 165,
   "id": "fb7a41c7",
   "metadata": {},
   "outputs": [],
   "source": [
    "person = {\n",
    "    \"name\": [\"Shakil\",\"ABC\"],\n",
    "    \"age\": [27, 30],\n",
    "    \"city\": [\"Munich\", 'Berlin']\n",
    "}"
   ]
  },
  {
   "cell_type": "code",
   "execution_count": 168,
   "id": "d1082038",
   "metadata": {},
   "outputs": [],
   "source": [
    "df = pd.DataFrame(person)"
   ]
  },
  {
   "cell_type": "code",
   "execution_count": 169,
   "id": "65e71f63",
   "metadata": {},
   "outputs": [
    {
     "data": {
      "text/html": [
       "<div>\n",
       "<style scoped>\n",
       "    .dataframe tbody tr th:only-of-type {\n",
       "        vertical-align: middle;\n",
       "    }\n",
       "\n",
       "    .dataframe tbody tr th {\n",
       "        vertical-align: top;\n",
       "    }\n",
       "\n",
       "    .dataframe thead th {\n",
       "        text-align: right;\n",
       "    }\n",
       "</style>\n",
       "<table border=\"1\" class=\"dataframe\">\n",
       "  <thead>\n",
       "    <tr style=\"text-align: right;\">\n",
       "      <th></th>\n",
       "      <th>name</th>\n",
       "      <th>age</th>\n",
       "      <th>city</th>\n",
       "    </tr>\n",
       "  </thead>\n",
       "  <tbody>\n",
       "    <tr>\n",
       "      <th>0</th>\n",
       "      <td>Shakil</td>\n",
       "      <td>27</td>\n",
       "      <td>Munich</td>\n",
       "    </tr>\n",
       "    <tr>\n",
       "      <th>1</th>\n",
       "      <td>ABC</td>\n",
       "      <td>30</td>\n",
       "      <td>Berlin</td>\n",
       "    </tr>\n",
       "  </tbody>\n",
       "</table>\n",
       "</div>"
      ],
      "text/plain": [
       "     name  age    city\n",
       "0  Shakil   27  Munich\n",
       "1     ABC   30  Berlin"
      ]
     },
     "execution_count": 169,
     "metadata": {},
     "output_type": "execute_result"
    }
   ],
   "source": [
    "df"
   ]
  },
  {
   "cell_type": "code",
   "execution_count": 170,
   "id": "444cc12a",
   "metadata": {},
   "outputs": [
    {
     "data": {
      "text/html": [
       "<div>\n",
       "<style scoped>\n",
       "    .dataframe tbody tr th:only-of-type {\n",
       "        vertical-align: middle;\n",
       "    }\n",
       "\n",
       "    .dataframe tbody tr th {\n",
       "        vertical-align: top;\n",
       "    }\n",
       "\n",
       "    .dataframe thead th {\n",
       "        text-align: right;\n",
       "    }\n",
       "</style>\n",
       "<table border=\"1\" class=\"dataframe\">\n",
       "  <thead>\n",
       "    <tr style=\"text-align: right;\">\n",
       "      <th></th>\n",
       "      <th>name</th>\n",
       "      <th>age</th>\n",
       "    </tr>\n",
       "  </thead>\n",
       "  <tbody>\n",
       "    <tr>\n",
       "      <th>0</th>\n",
       "      <td>Shakil</td>\n",
       "      <td>27</td>\n",
       "    </tr>\n",
       "    <tr>\n",
       "      <th>1</th>\n",
       "      <td>ABC</td>\n",
       "      <td>30</td>\n",
       "    </tr>\n",
       "  </tbody>\n",
       "</table>\n",
       "</div>"
      ],
      "text/plain": [
       "     name  age\n",
       "0  Shakil   27\n",
       "1     ABC   30"
      ]
     },
     "execution_count": 170,
     "metadata": {},
     "output_type": "execute_result"
    }
   ],
   "source": [
    "df.drop(['city'], axis=1)"
   ]
  },
  {
   "cell_type": "code",
   "execution_count": 173,
   "id": "c5572781",
   "metadata": {},
   "outputs": [
    {
     "data": {
      "text/html": [
       "<div>\n",
       "<style scoped>\n",
       "    .dataframe tbody tr th:only-of-type {\n",
       "        vertical-align: middle;\n",
       "    }\n",
       "\n",
       "    .dataframe tbody tr th {\n",
       "        vertical-align: top;\n",
       "    }\n",
       "\n",
       "    .dataframe thead th {\n",
       "        text-align: right;\n",
       "    }\n",
       "</style>\n",
       "<table border=\"1\" class=\"dataframe\">\n",
       "  <thead>\n",
       "    <tr style=\"text-align: right;\">\n",
       "      <th></th>\n",
       "      <th>name</th>\n",
       "      <th>age</th>\n",
       "    </tr>\n",
       "  </thead>\n",
       "  <tbody>\n",
       "    <tr>\n",
       "      <th>0</th>\n",
       "      <td>Shakil</td>\n",
       "      <td>27</td>\n",
       "    </tr>\n",
       "    <tr>\n",
       "      <th>1</th>\n",
       "      <td>ABC</td>\n",
       "      <td>30</td>\n",
       "    </tr>\n",
       "  </tbody>\n",
       "</table>\n",
       "</div>"
      ],
      "text/plain": [
       "     name  age\n",
       "0  Shakil   27\n",
       "1     ABC   30"
      ]
     },
     "execution_count": 173,
     "metadata": {},
     "output_type": "execute_result"
    }
   ],
   "source": [
    "df.drop(['city'], axis='columns')"
   ]
  },
  {
   "cell_type": "code",
   "execution_count": 174,
   "id": "562fc6d9",
   "metadata": {},
   "outputs": [
    {
     "data": {
      "text/html": [
       "<div>\n",
       "<style scoped>\n",
       "    .dataframe tbody tr th:only-of-type {\n",
       "        vertical-align: middle;\n",
       "    }\n",
       "\n",
       "    .dataframe tbody tr th {\n",
       "        vertical-align: top;\n",
       "    }\n",
       "\n",
       "    .dataframe thead th {\n",
       "        text-align: right;\n",
       "    }\n",
       "</style>\n",
       "<table border=\"1\" class=\"dataframe\">\n",
       "  <thead>\n",
       "    <tr style=\"text-align: right;\">\n",
       "      <th></th>\n",
       "      <th>name</th>\n",
       "      <th>age</th>\n",
       "      <th>city</th>\n",
       "    </tr>\n",
       "  </thead>\n",
       "  <tbody>\n",
       "    <tr>\n",
       "      <th>0</th>\n",
       "      <td>Shakil</td>\n",
       "      <td>27</td>\n",
       "      <td>Munich</td>\n",
       "    </tr>\n",
       "    <tr>\n",
       "      <th>1</th>\n",
       "      <td>ABC</td>\n",
       "      <td>30</td>\n",
       "      <td>Berlin</td>\n",
       "    </tr>\n",
       "  </tbody>\n",
       "</table>\n",
       "</div>"
      ],
      "text/plain": [
       "     name  age    city\n",
       "0  Shakil   27  Munich\n",
       "1     ABC   30  Berlin"
      ]
     },
     "execution_count": 174,
     "metadata": {},
     "output_type": "execute_result"
    }
   ],
   "source": [
    "df"
   ]
  },
  {
   "cell_type": "code",
   "execution_count": 175,
   "id": "f7b070fa",
   "metadata": {},
   "outputs": [
    {
     "data": {
      "text/html": [
       "<div>\n",
       "<style scoped>\n",
       "    .dataframe tbody tr th:only-of-type {\n",
       "        vertical-align: middle;\n",
       "    }\n",
       "\n",
       "    .dataframe tbody tr th {\n",
       "        vertical-align: top;\n",
       "    }\n",
       "\n",
       "    .dataframe thead th {\n",
       "        text-align: right;\n",
       "    }\n",
       "</style>\n",
       "<table border=\"1\" class=\"dataframe\">\n",
       "  <thead>\n",
       "    <tr style=\"text-align: right;\">\n",
       "      <th></th>\n",
       "      <th>name</th>\n",
       "      <th>age</th>\n",
       "    </tr>\n",
       "  </thead>\n",
       "  <tbody>\n",
       "    <tr>\n",
       "      <th>0</th>\n",
       "      <td>Shakil</td>\n",
       "      <td>27</td>\n",
       "    </tr>\n",
       "    <tr>\n",
       "      <th>1</th>\n",
       "      <td>ABC</td>\n",
       "      <td>30</td>\n",
       "    </tr>\n",
       "  </tbody>\n",
       "</table>\n",
       "</div>"
      ],
      "text/plain": [
       "     name  age\n",
       "0  Shakil   27\n",
       "1     ABC   30"
      ]
     },
     "execution_count": 175,
     "metadata": {},
     "output_type": "execute_result"
    }
   ],
   "source": [
    "# df = df.drop(['city'], axis='columns')\n",
    "df.drop(['city'], axis='columns', inplace=False)"
   ]
  },
  {
   "cell_type": "code",
   "execution_count": 176,
   "id": "6598b472",
   "metadata": {},
   "outputs": [
    {
     "data": {
      "text/html": [
       "<div>\n",
       "<style scoped>\n",
       "    .dataframe tbody tr th:only-of-type {\n",
       "        vertical-align: middle;\n",
       "    }\n",
       "\n",
       "    .dataframe tbody tr th {\n",
       "        vertical-align: top;\n",
       "    }\n",
       "\n",
       "    .dataframe thead th {\n",
       "        text-align: right;\n",
       "    }\n",
       "</style>\n",
       "<table border=\"1\" class=\"dataframe\">\n",
       "  <thead>\n",
       "    <tr style=\"text-align: right;\">\n",
       "      <th></th>\n",
       "      <th>name</th>\n",
       "      <th>age</th>\n",
       "      <th>city</th>\n",
       "    </tr>\n",
       "  </thead>\n",
       "  <tbody>\n",
       "    <tr>\n",
       "      <th>0</th>\n",
       "      <td>Shakil</td>\n",
       "      <td>27</td>\n",
       "      <td>Munich</td>\n",
       "    </tr>\n",
       "    <tr>\n",
       "      <th>1</th>\n",
       "      <td>ABC</td>\n",
       "      <td>30</td>\n",
       "      <td>Berlin</td>\n",
       "    </tr>\n",
       "  </tbody>\n",
       "</table>\n",
       "</div>"
      ],
      "text/plain": [
       "     name  age    city\n",
       "0  Shakil   27  Munich\n",
       "1     ABC   30  Berlin"
      ]
     },
     "execution_count": 176,
     "metadata": {},
     "output_type": "execute_result"
    }
   ],
   "source": [
    "df"
   ]
  },
  {
   "cell_type": "code",
   "execution_count": 177,
   "id": "2c23583c",
   "metadata": {},
   "outputs": [],
   "source": [
    "# df = df.drop(['city'], axis='columns')\n",
    "df.drop(['city'], axis='columns', inplace=True)"
   ]
  },
  {
   "cell_type": "code",
   "execution_count": 178,
   "id": "12ebfca3",
   "metadata": {},
   "outputs": [
    {
     "data": {
      "text/html": [
       "<div>\n",
       "<style scoped>\n",
       "    .dataframe tbody tr th:only-of-type {\n",
       "        vertical-align: middle;\n",
       "    }\n",
       "\n",
       "    .dataframe tbody tr th {\n",
       "        vertical-align: top;\n",
       "    }\n",
       "\n",
       "    .dataframe thead th {\n",
       "        text-align: right;\n",
       "    }\n",
       "</style>\n",
       "<table border=\"1\" class=\"dataframe\">\n",
       "  <thead>\n",
       "    <tr style=\"text-align: right;\">\n",
       "      <th></th>\n",
       "      <th>name</th>\n",
       "      <th>age</th>\n",
       "    </tr>\n",
       "  </thead>\n",
       "  <tbody>\n",
       "    <tr>\n",
       "      <th>0</th>\n",
       "      <td>Shakil</td>\n",
       "      <td>27</td>\n",
       "    </tr>\n",
       "    <tr>\n",
       "      <th>1</th>\n",
       "      <td>ABC</td>\n",
       "      <td>30</td>\n",
       "    </tr>\n",
       "  </tbody>\n",
       "</table>\n",
       "</div>"
      ],
      "text/plain": [
       "     name  age\n",
       "0  Shakil   27\n",
       "1     ABC   30"
      ]
     },
     "execution_count": 178,
     "metadata": {},
     "output_type": "execute_result"
    }
   ],
   "source": [
    "df"
   ]
  },
  {
   "cell_type": "code",
   "execution_count": 179,
   "id": "b21ebb80",
   "metadata": {},
   "outputs": [],
   "source": [
    "df = df.drop(['age'], axis='columns') #column delete"
   ]
  },
  {
   "cell_type": "code",
   "execution_count": 180,
   "id": "e29862db",
   "metadata": {},
   "outputs": [
    {
     "data": {
      "text/html": [
       "<div>\n",
       "<style scoped>\n",
       "    .dataframe tbody tr th:only-of-type {\n",
       "        vertical-align: middle;\n",
       "    }\n",
       "\n",
       "    .dataframe tbody tr th {\n",
       "        vertical-align: top;\n",
       "    }\n",
       "\n",
       "    .dataframe thead th {\n",
       "        text-align: right;\n",
       "    }\n",
       "</style>\n",
       "<table border=\"1\" class=\"dataframe\">\n",
       "  <thead>\n",
       "    <tr style=\"text-align: right;\">\n",
       "      <th></th>\n",
       "      <th>name</th>\n",
       "    </tr>\n",
       "  </thead>\n",
       "  <tbody>\n",
       "    <tr>\n",
       "      <th>0</th>\n",
       "      <td>Shakil</td>\n",
       "    </tr>\n",
       "    <tr>\n",
       "      <th>1</th>\n",
       "      <td>ABC</td>\n",
       "    </tr>\n",
       "  </tbody>\n",
       "</table>\n",
       "</div>"
      ],
      "text/plain": [
       "     name\n",
       "0  Shakil\n",
       "1     ABC"
      ]
     },
     "execution_count": 180,
     "metadata": {},
     "output_type": "execute_result"
    }
   ],
   "source": [
    "df"
   ]
  },
  {
   "cell_type": "code",
   "execution_count": 181,
   "id": "73675b08",
   "metadata": {},
   "outputs": [
    {
     "data": {
      "text/html": [
       "<div>\n",
       "<style scoped>\n",
       "    .dataframe tbody tr th:only-of-type {\n",
       "        vertical-align: middle;\n",
       "    }\n",
       "\n",
       "    .dataframe tbody tr th {\n",
       "        vertical-align: top;\n",
       "    }\n",
       "\n",
       "    .dataframe thead th {\n",
       "        text-align: right;\n",
       "    }\n",
       "</style>\n",
       "<table border=\"1\" class=\"dataframe\">\n",
       "  <thead>\n",
       "    <tr style=\"text-align: right;\">\n",
       "      <th></th>\n",
       "      <th>name</th>\n",
       "    </tr>\n",
       "  </thead>\n",
       "  <tbody>\n",
       "    <tr>\n",
       "      <th>1</th>\n",
       "      <td>ABC</td>\n",
       "    </tr>\n",
       "  </tbody>\n",
       "</table>\n",
       "</div>"
      ],
      "text/plain": [
       "  name\n",
       "1  ABC"
      ]
     },
     "execution_count": 181,
     "metadata": {},
     "output_type": "execute_result"
    }
   ],
   "source": [
    "df.drop([0]) # row delete"
   ]
  },
  {
   "cell_type": "code",
   "execution_count": null,
   "id": "3e2e70f9",
   "metadata": {},
   "outputs": [],
   "source": []
  }
 ],
 "metadata": {
  "kernelspec": {
   "display_name": "Python 3 (ipykernel)",
   "language": "python",
   "name": "python3"
  },
  "language_info": {
   "codemirror_mode": {
    "name": "ipython",
    "version": 3
   },
   "file_extension": ".py",
   "mimetype": "text/x-python",
   "name": "python",
   "nbconvert_exporter": "python",
   "pygments_lexer": "ipython3",
   "version": "3.9.13"
  }
 },
 "nbformat": 4,
 "nbformat_minor": 5
}
